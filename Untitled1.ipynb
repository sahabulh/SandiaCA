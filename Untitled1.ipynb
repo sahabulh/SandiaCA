{
 "cells": [
  {
   "cell_type": "code",
   "execution_count": 1,
   "id": "750b1a82",
   "metadata": {},
   "outputs": [],
   "source": [
    "from fastapi import FastAPI, Depends, HTTPException, Response, status\n",
    "from fastapi.security import APIKeyHeader\n",
    "import os\n",
    "\n",
    "dev_api_key = ['1234']\n",
    "user_api_key = ['1235']\n",
    "\n",
    "access_type = None\n",
    "\n",
    "# You would use as an environment var in real life\n",
    "X_API_KEY = APIKeyHeader(name='X-API-Key')\n",
    "\n",
    "\n",
    "def api_key_auth(x_api_key: str = Depends(X_API_KEY)):\n",
    "    \"\"\" takes the X-API-Key header and validate it with the X-API-Key in the database/environment\"\"\"\n",
    "    if x_api_key not in dev_api_key and x_api_key not in user_api_key:\n",
    "        raise HTTPException(\n",
    "            status_code=401,\n",
    "            detail=\"Invalid API Key. Check that you are passing a 'X-API-Key' on your header.\"\n",
    "        )\n",
    "    elif x_api_key in dev_api_key:\n",
    "        access_type = \"dev\"\n",
    "    else:\n",
    "        access_type = \"user\"\n",
    "\n",
    "app = FastAPI()\n",
    "\n",
    "\n",
    "@app.get(\"/do_something\", dependencies=[Depends(api_key_auth)])\n",
    "async def do_something():\n",
    "    if access_type == \"dev\":\n",
    "        return \"API is working OK. Access type: Developer.\"\n",
    "    if access_type == \"user\":\n",
    "        return \"API is working OK. Access type: Developer.\"\n",
    "    if not access_type:\n",
    "        return Response(\"You don't have access.\", status_code=status.HTTP_401_UNAUTHORIZED)"
   ]
  },
  {
   "cell_type": "code",
   "execution_count": null,
   "id": "090b17f2",
   "metadata": {},
   "outputs": [],
   "source": []
  }
 ],
 "metadata": {
  "kernelspec": {
   "display_name": "Python 3 (ipykernel)",
   "language": "python",
   "name": "python3"
  },
  "language_info": {
   "codemirror_mode": {
    "name": "ipython",
    "version": 3
   },
   "file_extension": ".py",
   "mimetype": "text/x-python",
   "name": "python",
   "nbconvert_exporter": "python",
   "pygments_lexer": "ipython3",
   "version": "3.12.5"
  }
 },
 "nbformat": 4,
 "nbformat_minor": 5
}
