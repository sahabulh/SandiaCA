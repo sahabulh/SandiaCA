{
 "cells": [
  {
   "cell_type": "code",
   "execution_count": 28,
   "id": "20d2a5e2-2213-4fd2-b4b6-7750179137fa",
   "metadata": {},
   "outputs": [],
   "source": [
    "import json, os, requests\n",
    "from cryptography import x509\n",
    "from cryptography.hazmat.primitives import hashes\n",
    "from cryptography.hazmat.primitives.asymmetric import ec\n",
    "from cryptography.x509.oid import AttributeOID, NameOID\n",
    "from cryptography.hazmat.primitives import serialization\n",
    "from cryptography.x509 import load_pem_x509_certificate"
   ]
  },
  {
   "cell_type": "code",
   "execution_count": 22,
   "id": "79379224-2461-48af-9b91-af997e6097c5",
   "metadata": {},
   "outputs": [],
   "source": [
    "headers = {\n",
    "    'accept':       'application/json',\n",
    "    'X-API-KEY':    'iamadmin',\n",
    "    'Content-Type': 'application/json',\n",
    "}"
   ]
  },
  {
   "cell_type": "code",
   "execution_count": 59,
   "id": "9c1d7b0f-49d3-4861-ae0c-3f85c39d41f3",
   "metadata": {},
   "outputs": [],
   "source": [
    "data = {\n",
    "    \"name\": \"abc\"\n",
    "}"
   ]
  },
  {
   "cell_type": "code",
   "execution_count": 60,
   "id": "4dd0ffe2-53a7-4483-9e43-6fb7caa8188f",
   "metadata": {},
   "outputs": [],
   "source": [
    "r = requests.post('http://127.0.0.1:8000/subCA', headers=headers, data=json.dumps(data))\n",
    "d = r.json()"
   ]
  },
  {
   "cell_type": "code",
   "execution_count": 61,
   "id": "9a4c996c-5382-48f1-a1a7-b082957520e3",
   "metadata": {},
   "outputs": [
    {
     "name": "stdout",
     "output_type": "stream",
     "text": [
      "{'detail': [{'type': 'missing', 'loc': ['body', 'price'], 'msg': 'Field required', 'input': {'name': 'abc'}}]}\n"
     ]
    }
   ],
   "source": [
    "print(d)"
   ]
  },
  {
   "cell_type": "code",
   "execution_count": 52,
   "id": "7591af13-b0ce-46e8-adc7-99a07f6269d8",
   "metadata": {},
   "outputs": [
    {
     "ename": "AttributeError",
     "evalue": "'dict' object has no attribute 'encode'",
     "output_type": "error",
     "traceback": [
      "\u001b[0;31m---------------------------------------------------------------------------\u001b[0m",
      "\u001b[0;31mAttributeError\u001b[0m                            Traceback (most recent call last)",
      "Cell \u001b[0;32mIn[52], line 1\u001b[0m\n\u001b[0;32m----> 1\u001b[0m cert \u001b[38;5;241m=\u001b[39m load_pem_x509_certificate(d\u001b[38;5;241m.\u001b[39mencode())\n",
      "\u001b[0;31mAttributeError\u001b[0m: 'dict' object has no attribute 'encode'"
     ]
    }
   ],
   "source": [
    "cert = load_pem_x509_certificate(d.encode())"
   ]
  },
  {
   "cell_type": "code",
   "execution_count": 47,
   "id": "4883cd43-0c42-4c2b-bd77-c40ed9a6abaf",
   "metadata": {},
   "outputs": [
    {
     "data": {
      "text/plain": [
       "<Name(CN=V2G ROOT CA,C=US,DC=V2G,O=Sandia National Labs,OU=Electric Vehicle,ST=New Mexico)>"
      ]
     },
     "execution_count": 47,
     "metadata": {},
     "output_type": "execute_result"
    }
   ],
   "source": [
    "cert.issuer"
   ]
  },
  {
   "cell_type": "code",
   "execution_count": null,
   "id": "a109b464-9c60-4d76-a4de-999c897b98ad",
   "metadata": {},
   "outputs": [],
   "source": []
  }
 ],
 "metadata": {
  "kernelspec": {
   "display_name": "Python 3 (ipykernel)",
   "language": "python",
   "name": "python3"
  },
  "language_info": {
   "codemirror_mode": {
    "name": "ipython",
    "version": 3
   },
   "file_extension": ".py",
   "mimetype": "text/x-python",
   "name": "python",
   "nbconvert_exporter": "python",
   "pygments_lexer": "ipython3",
   "version": "3.12.5"
  }
 },
 "nbformat": 4,
 "nbformat_minor": 5
}
