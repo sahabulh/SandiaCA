{
 "cells": [
  {
   "cell_type": "code",
   "execution_count": 17,
   "id": "eb69399d",
   "metadata": {},
   "outputs": [],
   "source": [
    "from cryptography import x509\n",
    "from cryptography.hazmat.primitives import hashes\n",
    "from cryptography.hazmat.primitives.asymmetric import ec\n",
    "from cryptography.x509.oid import AttributeOID, NameOID\n",
    "from cryptography.hazmat.primitives import serialization\n",
    "\n",
    "import datetime"
   ]
  },
  {
   "cell_type": "code",
   "execution_count": 13,
   "id": "45136f3c",
   "metadata": {},
   "outputs": [],
   "source": [
    "private_key = ec.generate_private_key(\n",
    "    ec.SECP256R1()\n",
    ")"
   ]
  },
  {
   "cell_type": "code",
   "execution_count": 3,
   "id": "c6e61430",
   "metadata": {},
   "outputs": [],
   "source": [
    "builder = x509.CertificateSigningRequestBuilder()"
   ]
  },
  {
   "cell_type": "code",
   "execution_count": 4,
   "id": "c892500f",
   "metadata": {},
   "outputs": [],
   "source": [
    "builder = builder.subject_name(x509.Name([\n",
    "    x509.NameAttribute(NameOID.COMMON_NAME, 'cryptography.io'),\n",
    "]))"
   ]
  },
  {
   "cell_type": "code",
   "execution_count": 5,
   "id": "b65d240a",
   "metadata": {},
   "outputs": [],
   "source": [
    "builder = builder.add_extension(\n",
    "    x509.BasicConstraints(ca=False, path_length=None), critical=True,\n",
    ")"
   ]
  },
  {
   "cell_type": "code",
   "execution_count": 6,
   "id": "67029283",
   "metadata": {},
   "outputs": [],
   "source": [
    "builder = builder.add_attribute(\n",
    "    AttributeOID.CHALLENGE_PASSWORD, b\"changeit\"\n",
    ")"
   ]
  },
  {
   "cell_type": "code",
   "execution_count": 7,
   "id": "befd89d6",
   "metadata": {},
   "outputs": [],
   "source": [
    "request = builder.sign(\n",
    "    private_key, hashes.SHA256()\n",
    ")"
   ]
  },
  {
   "cell_type": "code",
   "execution_count": 8,
   "id": "26609629",
   "metadata": {},
   "outputs": [
    {
     "data": {
      "text/plain": [
       "True"
      ]
     },
     "execution_count": 8,
     "metadata": {},
     "output_type": "execute_result"
    }
   ],
   "source": [
    "isinstance(request, x509.CertificateSigningRequest)"
   ]
  },
  {
   "cell_type": "code",
   "execution_count": 9,
   "id": "74b8d060",
   "metadata": {},
   "outputs": [
    {
     "data": {
      "text/plain": [
       "<Name(CN=cryptography.io)>"
      ]
     },
     "execution_count": 9,
     "metadata": {},
     "output_type": "execute_result"
    }
   ],
   "source": [
    "request.subject"
   ]
  },
  {
   "cell_type": "code",
   "execution_count": 14,
   "id": "3b2ca863",
   "metadata": {},
   "outputs": [
    {
     "data": {
      "text/plain": [
       "<cryptography.hazmat.backends.openssl.ec._EllipticCurvePublicKey at 0x7f660a8f2e20>"
      ]
     },
     "execution_count": 14,
     "metadata": {},
     "output_type": "execute_result"
    }
   ],
   "source": [
    "private_key.public_key()"
   ]
  },
  {
   "cell_type": "code",
   "execution_count": 12,
   "id": "5c4c5e83",
   "metadata": {},
   "outputs": [],
   "source": [
    "private_key = ec.generate_private_key(ec.SECP256R1())\n",
    "public_key = private_key.public_key()\n",
    "builder = x509.CertificateBuilder()\n",
    "builder = builder.subject_name(x509.Name([\n",
    "    x509.NameAttribute(NameOID.COMMON_NAME, 'V2G ROOT CA'),\n",
    "    x509.NameAttribute(NameOID.COUNTRY_NAME, 'US'),\n",
    "    x509.NameAttribute(NameOID.DOMAIN_COMPONENT, 'V2G'),\n",
    "    x509.NameAttribute(NameOID.ORGANIZATION_NAME, 'Sandia National Labs'),\n",
    "    x509.NameAttribute(NameOID.ORGANIZATIONAL_UNIT_NAME, 'Electric Vehicle'),\n",
    "    x509.NameAttribute(NameOID.STATE_OR_PROVINCE_NAME, 'New Mexico'),\n",
    "]))\n",
    "builder = builder.issuer_name(x509.Name([\n",
    "    x509.NameAttribute(NameOID.COMMON_NAME, 'V2G ROOT CA'),\n",
    "    x509.NameAttribute(NameOID.COUNTRY_NAME, 'US'),\n",
    "    x509.NameAttribute(NameOID.DOMAIN_COMPONENT, 'V2G'),\n",
    "    x509.NameAttribute(NameOID.ORGANIZATION_NAME, 'Sandia National Labs'),\n",
    "    x509.NameAttribute(NameOID.ORGANIZATIONAL_UNIT_NAME, 'Electric Vehicle'),\n",
    "    x509.NameAttribute(NameOID.STATE_OR_PROVINCE_NAME, 'New Mexico'),\n",
    "]))\n",
    "now = datetime.datetime.today()\n",
    "one_year_later = now.replace(year = now.year + 1)\n",
    "builder = builder.not_valid_before(now)\n",
    "builder = builder.not_valid_after(one_year_later)\n",
    "builder = builder.serial_number(x509.random_serial_number())\n",
    "builder = builder.public_key(public_key)\n",
    "builder = builder.add_extension(x509.BasicConstraints(ca=True, path_length=None), critical=True)\n",
    "certificate = builder.sign(\n",
    "    private_key=private_key, algorithm=hashes.SHA256(),\n",
    ")"
   ]
  },
  {
   "cell_type": "code",
   "execution_count": 13,
   "id": "e1771b98-50e5-40b2-b488-227dc811307c",
   "metadata": {},
   "outputs": [
    {
     "data": {
      "text/plain": [
       "<Name(CN=V2G ROOT CA,C=US,DC=V2G,O=Sandia National Labs,OU=Electric Vehicle,ST=New Mexico)>"
      ]
     },
     "execution_count": 13,
     "metadata": {},
     "output_type": "execute_result"
    }
   ],
   "source": [
    "certificate.subject"
   ]
  },
  {
   "cell_type": "code",
   "execution_count": 14,
   "id": "1423889f-56c9-44d5-b5dc-edcb9a9c2ac4",
   "metadata": {},
   "outputs": [
    {
     "data": {
      "text/plain": [
       "<Name(CN=V2G ROOT CA,C=US,DC=V2G,O=Sandia National Labs,OU=Electric Vehicle,ST=New Mexico)>"
      ]
     },
     "execution_count": 14,
     "metadata": {},
     "output_type": "execute_result"
    }
   ],
   "source": [
    "certificate.issuer"
   ]
  },
  {
   "cell_type": "code",
   "execution_count": 15,
   "id": "d14ac2b1-bf6a-4bd6-b355-267fbddc3325",
   "metadata": {},
   "outputs": [
    {
     "data": {
      "text/plain": [
       "711381366883942429373378577212008968792312514055"
      ]
     },
     "execution_count": 15,
     "metadata": {},
     "output_type": "execute_result"
    }
   ],
   "source": [
    "certificate.serial_number"
   ]
  },
  {
   "cell_type": "code",
   "execution_count": 25,
   "id": "f5bb43cb-5a9b-4363-b9de-446da7a74cf0",
   "metadata": {},
   "outputs": [
    {
     "data": {
      "text/plain": [
       "'-----BEGIN CERTIFICATE-----\\nMIICJDCCAcugAwIBAgIUfJtxmSF6tPCN/Ui+Job3+hdKBgcwCgYIKoZIzj0EAwIw\\ngYcxFDASBgNVBAMMC1YyRyBST09UIENBMQswCQYDVQQGEwJVUzETMBEGCgmSJomT\\n8ixkARkWA1YyRzEdMBsGA1UECgwUU2FuZGlhIE5hdGlvbmFsIExhYnMxGTAXBgNV\\nBAsMEEVsZWN0cmljIFZlaGljbGUxEzARBgNVBAgMCk5ldyBNZXhpY28wHhcNMjQw\\nOTE2MTcwMjE5WhcNMjUwOTE2MTcwMjE5WjCBhzEUMBIGA1UEAwwLVjJHIFJPT1Qg\\nQ0ExCzAJBgNVBAYTAlVTMRMwEQYKCZImiZPyLGQBGRYDVjJHMR0wGwYDVQQKDBRT\\nYW5kaWEgTmF0aW9uYWwgTGFiczEZMBcGA1UECwwQRWxlY3RyaWMgVmVoaWNsZTET\\nMBEGA1UECAwKTmV3IE1leGljbzBZMBMGByqGSM49AgEGCCqGSM49AwEHA0IABHE1\\nZZCv2EDt0S7VmLkNmQwMUi7FUauoBatxWaj2/5S/mu/Eav6qAdy6IkRabFgADCwl\\nRinEHI+kZ1Aaw+5G64yjEzARMA8GA1UdEwEB/wQFMAMBAf8wCgYIKoZIzj0EAwID\\nRwAwRAIgZkRP8ZOakHLyK5AM/WogG5yGxGLQMX7DFgBN4YX2m+YCIEtX1z7m4vtV\\niz46wGDTcQxurYARYMi894JkqzTfRGUs\\n-----END CERTIFICATE-----\\n'"
      ]
     },
     "execution_count": 25,
     "metadata": {},
     "output_type": "execute_result"
    }
   ],
   "source": [
    "decoded = certificate.public_bytes(encoding=serialization.Encoding.PEM).decode('utf-8')"
   ]
  },
  {
   "cell_type": "code",
   "execution_count": null,
   "id": "145d030b-739d-4418-9fe2-ce927e31795a",
   "metadata": {},
   "outputs": [],
   "source": []
  }
 ],
 "metadata": {
  "kernelspec": {
   "display_name": "Python 3 (ipykernel)",
   "language": "python",
   "name": "python3"
  },
  "language_info": {
   "codemirror_mode": {
    "name": "ipython",
    "version": 3
   },
   "file_extension": ".py",
   "mimetype": "text/x-python",
   "name": "python",
   "nbconvert_exporter": "python",
   "pygments_lexer": "ipython3",
   "version": "3.12.5"
  }
 },
 "nbformat": 4,
 "nbformat_minor": 5
}
